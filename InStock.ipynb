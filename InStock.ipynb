{
 "cells": [
  {
   "cell_type": "markdown",
   "metadata": {},
   "source": [
    "Design and implement in code a Planner algorithm for a square chessboard of a given size (MxM) with \\\n",
    "certain cells marked red as restricted areas. 100x100 will be the maximum chessboard size. There are N \\\n",
    "kings on the board, each with a specific target cell to reach. The kings move sequentially, one by one, one \\\n",
    "step at a time (K1 step1, K2 step1…. K1 step2, K2 step2…), and must adhere to two main rules: they \\\n",
    "cannot move into restricted cells, and they cannot end a move adjacent to another king (including \\\n",
    "diagonally). A king may stay in place (empty move). The task is to compute a path for each king to its \\\n",
    "target, ensuring compliance with the movement rules and the sequential order of moves. \\\n",
    "Planner’s input would be given as 2 files: \\\n",
    "File1 - king starting and target positions \\\n",
    "x_from, y_from, x_to, y_to \\\n",
    "… \\\n",
    "File2 - chessboard size and restricted cells \\\n",
    "M \\\n",
    "x, y \\\n",
    "…\\\n",
    "x and y - integer coordinates of restricted cells - start from zero. \\\n",
    "If plan (solution) does not exist, Planner should detect and output that plan does not exist.\\\n",
    "If plan does exist, Planner should output a plan in a format \\\n",
    "x_from, y_from, x_to, y_to \\\n",
    "… \\\n",
    "where each line is one step of one king, and king_id would be deduced by a test program from “from” \\\n",
    "coordinates. "
   ]
  },
  {
   "cell_type": "code",
   "execution_count": 364,
   "metadata": {},
   "outputs": [],
   "source": [
    "import numpy as np\n",
    "import math\n",
    "import heapq\n",
    "import os\n",
    "from copy import deepcopy\n",
    "import matplotlib.pyplot as plt\n",
    "from matplotlib.colors import ListedColormap"
   ]
  },
  {
   "cell_type": "code",
   "execution_count": 365,
   "metadata": {},
   "outputs": [],
   "source": [
    "def get_map(test_case):\n",
    "    \n",
    "    map_file = open('test_cases/' + str(test_case) + '/map.txt', 'r')\n",
    "    map_file = str(map_file.read())\n",
    "    lines = map_file.strip().split('\\n')\n",
    "    obstacles = [tuple(line.split(',')) for line in lines[1:]]\n",
    "    obstacles = [(int(obstacle[0]),int(obstacle[1])) for obstacle in obstacles]\n",
    "    grid_size = (int(lines[0]), int(lines[0]))\n",
    "\n",
    "    return grid_size, obstacles\n",
    "\n",
    "\n",
    "def get_kings(test_case):\n",
    "    '''\n",
    "    This function returns the start and \n",
    "    the goal position of the kings\n",
    "    as a list of tuples' tuples\n",
    "    '''\n",
    "    kings_file = open('test_cases/' + str(test_case) + '/kings.txt', 'r')\n",
    "    kings_file = str(kings_file.read())\n",
    "    start_goal = kings_file.strip().split('\\n')\n",
    "    total_no_kings = len(start_goal)\n",
    "\n",
    "    kings = np.zeros(total_no_kings, dtype=object)\n",
    "\n",
    "    for i, king in enumerate(start_goal):\n",
    "        king_i = king.split(',')\n",
    "        start = (int(king_i[0]),int(king_i[1]))\n",
    "        goal = (int(king_i[2]),int(king_i[3]))\n",
    "        kings[i] = (start, goal)\n",
    "\n",
    "    return kings\n",
    "\n",
    "def initialize_env(test_case):\n",
    "\n",
    "    grid_size, obstacles = get_map(test_case)\n",
    "    kings = get_kings(test_case)\n",
    "\n",
    "    return grid_size, obstacles"
   ]
  },
  {
   "cell_type": "markdown",
   "metadata": {},
   "source": [
    "# A* Algorithm"
   ]
  },
  {
   "cell_type": "code",
   "execution_count": 366,
   "metadata": {},
   "outputs": [],
   "source": [
    "class AStarPathfinder:\n",
    "    def __init__(self, grid_size, start_pos, goal_pos, obstacles):\n",
    "        self.grid_size = grid_size\n",
    "        self.start_pos = start_pos\n",
    "        self.goal_pos = goal_pos\n",
    "        self.obstacles = obstacles\n",
    "        self.grid = np.zeros(grid_size, dtype=np.int16)\n",
    "        # print(self.grid)\n",
    "        for obs in obstacles:\n",
    "            self.grid[obs] = 1  # Mark obstacles on the grid\n",
    "\n",
    "    def heuristic(self, a, b):\n",
    "        \"\"\"Calculate the Manhattan distance from point a to point b.\"\"\"\n",
    "        return abs(a[0] - b[0]) + abs(a[1] - b[1])\n",
    "\n",
    "    def neighbors(self, node):\n",
    "        \"\"\"Generate the neighbors of a given node.\"\"\"\n",
    "        directions = [(0, 1), (1, 0), (0, -1), (-1, 0)]  # 4 possible movements\n",
    "        result = []\n",
    "        for dx, dy in directions:\n",
    "            nx, ny = node[0] + dx, node[1] + dy\n",
    "            if 0 <= nx < self.grid_size[0] and 0 <= ny < self.grid_size[1]:\n",
    "                if self.grid[nx, ny] == 0:  # Check if it's not an obstacle\n",
    "                    result.append((nx, ny))\n",
    "        return result\n",
    "\n",
    "    def a_star_search(self):\n",
    "        \"\"\"Perform the A* search algorithm.\"\"\"\n",
    "        open_set = []\n",
    "        heapq.heappush(open_set, (0 + self.heuristic(self.start_pos, self.goal_pos), self.start_pos))\n",
    "        came_from = {}\n",
    "        g_score = {self.start_pos: 0}\n",
    "        f_score = {self.start_pos: self.heuristic(self.start_pos, self.goal_pos)}\n",
    "\n",
    "        while open_set:\n",
    "            current = heapq.heappop(open_set)[1]\n",
    "\n",
    "            if current == self.goal_pos:\n",
    "                return self.reconstruct_path(came_from, current)\n",
    "\n",
    "            for neighbor in self.neighbors(current):\n",
    "                tentative_g_score = g_score[current] + 1  # step cost is always 1\n",
    "                if neighbor not in g_score or tentative_g_score < g_score[neighbor]:\n",
    "                    came_from[neighbor] = current\n",
    "                    g_score[neighbor] = tentative_g_score\n",
    "                    f_score[neighbor] = tentative_g_score + self.heuristic(neighbor, self.goal_pos)\n",
    "                    heapq.heappush(open_set, (f_score[neighbor], neighbor))\n",
    "\n",
    "        return None\n",
    "\n",
    "    def reconstruct_path(self, came_from, current):\n",
    "        \"\"\"Reconstruct the path from start to goal.\"\"\"\n",
    "        total_path = [current]\n",
    "        while current in came_from:\n",
    "            current = came_from[current]\n",
    "            total_path.append(current)\n",
    "        return total_path[::-1]  # Return reversed path\n",
    "\n",
    "# Usage example\n",
    "# grid_size = (16, 16)\n",
    "# start_pos = (1, 3)\n",
    "# goal_pos = (3, 1)\n",
    "# obstacles = [(0,2), (2,2), (2,1)]\n",
    "# pathfinder = AStarPathfinder(grid_size, start_pos, goal_pos, obstacles)\n",
    "# path = pathfinder.a_star_search()\n",
    "# print(path)\n",
    "\n"
   ]
  },
  {
   "cell_type": "code",
   "execution_count": 367,
   "metadata": {},
   "outputs": [],
   "source": [
    "test_case = 1\n",
    "grid_size, obstacles = get_map(test_case)\n",
    "# print('grid_size',grid_size)\n",
    "kings = get_kings(test_case)\n",
    "total_no_kings = len(kings)\n",
    "\n",
    "def get_initial_paths(kings, obstacles):\n",
    "\n",
    "    # all_paths = np.zeros(total_no_kings, dtype=object)\n",
    "    all_paths = [None] * total_no_kings\n",
    "    all_path_costs = np.zeros(total_no_kings, dtype=int)\n",
    "\n",
    "    for i, king in enumerate(kings):\n",
    "        pathfinder = AStarPathfinder(grid_size, king[0], king[1], obstacles)\n",
    "        path = pathfinder.a_star_search()\n",
    "        # print('King_'+str(i), path)\n",
    "        all_path_costs[i] = len(path)\n",
    "        all_paths[i] = path\n",
    "    \n",
    "    return all_paths, all_path_costs\n",
    "\n",
    "# print(get_initial_paths(kings, obstacles))"
   ]
  },
  {
   "cell_type": "markdown",
   "metadata": {},
   "source": [
    "# Conflict-Based Search (High Level)"
   ]
  },
  {
   "cell_type": "code",
   "execution_count": 368,
   "metadata": {},
   "outputs": [],
   "source": [
    "init_paths, init_all_path_costs = get_initial_paths(kings, obstacles)\n",
    "init_SIC = np.sum(init_all_path_costs)    # Initial Sum of individual costs\n",
    "all_paths = init_paths"
   ]
  },
  {
   "cell_type": "code",
   "execution_count": 369,
   "metadata": {},
   "outputs": [
    {
     "name": "stdout",
     "output_type": "stream",
     "text": [
      "conflict {0: [(4, 10), (7, 4), (3, 4), (3, 3), (3, 2)], 1: [(5, 7), (7, 0), (5, 6), (2, 8), (3, 1), (5, 5), (2, 7), (5, 4), (2, 6), (4, 3), (5, 3), (6, 4)], 2: [(4, 7), (4, 6), (6, 1), (7, 7), (4, 5), (6, 2), (4, 4), (5, 2), (6, 3), (1, 8), (4, 3), (5, 3), (6, 4), (1, 7), (5, 4), (1, 6), (3, 1), (5, 5), (3, 0)], 3: [(2, 9), (1, 6), (2, 8), (5, 5), (0, 6), (0, 5), (0, 4), (7, 2)], 4: [(6, 7), (6, 6), (6, 5), (1, 8), (2, 6), (5, 3), (6, 4), (2, 5), (5, 2), (6, 3), (2, 4), (6, 2), (2, 3), (6, 1), (7, 7), (2, 2), (0, 2)], 5: [(2, 5), (4, 4), (6, 3), (1, 8), (2, 6), (4, 3), (6, 4), (1, 7), (2, 7), (1, 6), (2, 8), (3, 1), (1, 5), (1, 4), (7, 0)], 6: [(7, 6), (2, 3), (4, 6), (7, 7), (2, 4), (4, 5), (2, 5), (4, 4), (5, 2), (1, 8), (2, 6), (4, 3), (5, 3), (4, 2), (4, 1), (4, 0)], 7: [(1, 4), (5, 7), (3, 5), (0, 3), (6, 0), (2, 3), (4, 6), (6, 1)]}\n"
     ]
    }
   ],
   "source": [
    "\n",
    "def get_conflicts(all_paths):\n",
    "    '''\n",
    "       This function give a dictionary of \n",
    "       conflicts for each king\n",
    "       with other kings\n",
    "    '''\n",
    "\n",
    "    conflict = {}           #structure {agent : [list of indices of]}\n",
    "    for k in range(total_no_kings):  \n",
    "        conflict[k] = []\n",
    "\n",
    "    for agent, path in enumerate(all_paths):\n",
    "        temp = np.delete(all_paths, agent, 0)   #deleting the path, of which vertices are being checked\n",
    "        for p in path:     # p is each vertex of the path\n",
    "            for t, path_i in enumerate(temp): \n",
    "                if p in path_i:\n",
    "                    collision = path_i.index(p)\n",
    "                    agent_conflcting_with = all_paths.index(path_i)               \n",
    "                    conflict[agent].append((agent_conflcting_with, collision))\n",
    "                \n",
    "    \n",
    "    return conflict\n",
    "\n",
    "print('conflict', get_conflicts(all_paths))            \n",
    "            \n"
   ]
  },
  {
   "cell_type": "code",
   "execution_count": 370,
   "metadata": {},
   "outputs": [],
   "source": [
    "## Adding the conflicts to the "
   ]
  }
 ],
 "metadata": {
  "kernelspec": {
   "display_name": "Python 3",
   "language": "python",
   "name": "python3"
  },
  "language_info": {
   "codemirror_mode": {
    "name": "ipython",
    "version": 3
   },
   "file_extension": ".py",
   "mimetype": "text/x-python",
   "name": "python",
   "nbconvert_exporter": "python",
   "pygments_lexer": "ipython3",
   "version": "3.8.10"
  }
 },
 "nbformat": 4,
 "nbformat_minor": 2
}
