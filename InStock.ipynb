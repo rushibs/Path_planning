{
 "cells": [
  {
   "cell_type": "markdown",
   "metadata": {},
   "source": [
    "Design and implement in code a Planner algorithm for a square chessboard of a given size (MxM) with \\\n",
    "certain cells marked red as restricted areas. 100x100 will be the maximum chessboard size. There are N \\\n",
    "kings on the board, each with a specific target cell to reach. The kings move sequentially, one by one, one \\\n",
    "step at a time (K1 step1, K2 step1…. K1 step2, K2 step2…), and must adhere to two main rules: they \\\n",
    "cannot move into restricted cells, and they cannot end a move adjacent to another king (including \\\n",
    "diagonally). A king may stay in place (empty move). The task is to compute a path for each king to its \\\n",
    "target, ensuring compliance with the movement rules and the sequential order of moves. \\\n",
    "Planner’s input would be given as 2 files: \\\n",
    "File1 - king starting and target positions \\\n",
    "x_from, y_from, x_to, y_to \\\n",
    "… \\\n",
    "File2 - chessboard size and restricted cells \\\n",
    "M \\\n",
    "x, y \\\n",
    "…\\\n",
    "x and y - integer coordinates of restricted cells - start from zero. \\\n",
    "If plan (solution) does not exist, Planner should detect and output that plan does not exist.\\\n",
    "If plan does exist, Planner should output a plan in a format \\\n",
    "x_from, y_from, x_to, y_to \\\n",
    "… \\\n",
    "where each line is one step of one king, and king_id would be deduced by a test program from “from” \\\n",
    "coordinates. "
   ]
  },
  {
   "cell_type": "code",
   "execution_count": null,
   "metadata": {},
   "outputs": [],
   "source": [
    "import numpy\n",
    "import math"
   ]
  },
  {
   "cell_type": "code",
   "execution_count": null,
   "metadata": {},
   "outputs": [],
   "source": []
  }
 ],
 "metadata": {
  "kernelspec": {
   "display_name": "Python 3",
   "language": "python",
   "name": "python3"
  },
  "language_info": {
   "codemirror_mode": {
    "name": "ipython",
    "version": 3
   },
   "file_extension": ".py",
   "mimetype": "text/x-python",
   "name": "python",
   "nbconvert_exporter": "python",
   "pygments_lexer": "ipython3",
   "version": "3.8.10"
  }
 },
 "nbformat": 4,
 "nbformat_minor": 2
}
